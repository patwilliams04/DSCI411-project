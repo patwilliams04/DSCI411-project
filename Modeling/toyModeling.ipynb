{
 "cells": [
  {
   "cell_type": "code",
   "execution_count": 1,
   "id": "853761ad-0a28-4aa7-9986-bba4a57e0d4a",
   "metadata": {
    "tags": []
   },
   "outputs": [],
   "source": [
    "import pandas as pd\n",
    "\n",
    "df = pd.read_csv('/Users/patwilliams/DSCI441/DSCI411-project/Data_PreProcessing/final_economic_data.csv')"
   ]
  },
  {
   "cell_type": "code",
   "execution_count": 2,
   "id": "318c811b-8e5b-48f8-a016-6e1480c2a1aa",
   "metadata": {
    "tags": []
   },
   "outputs": [
    {
     "data": {
      "text/html": [
       "<div>\n",
       "<style scoped>\n",
       "    .dataframe tbody tr th:only-of-type {\n",
       "        vertical-align: middle;\n",
       "    }\n",
       "\n",
       "    .dataframe tbody tr th {\n",
       "        vertical-align: top;\n",
       "    }\n",
       "\n",
       "    .dataframe thead th {\n",
       "        text-align: right;\n",
       "    }\n",
       "</style>\n",
       "<table border=\"1\" class=\"dataframe\">\n",
       "  <thead>\n",
       "    <tr style=\"text-align: right;\">\n",
       "      <th></th>\n",
       "      <th>Year</th>\n",
       "      <th>Annual_%_Change_nasdaq</th>\n",
       "      <th>Annual_%_Change_dowj</th>\n",
       "      <th>Annual_%_Change_sp500</th>\n",
       "      <th>Annual_%_Change_corn</th>\n",
       "      <th>Annual_%_Change_cotton</th>\n",
       "      <th>Annual_%_Change_pound</th>\n",
       "      <th>Annual_%_Change_yen</th>\n",
       "      <th>Annual_Unemployment_Rate</th>\n",
       "      <th>Annual_%_Change_silver</th>\n",
       "      <th>...</th>\n",
       "      <th>Annual_%_Change_FFRate</th>\n",
       "      <th>Annual_%_Change_tenyrRate</th>\n",
       "      <th>Annual_%_Change_oneyrRate</th>\n",
       "      <th>Annual_%_Change_gold</th>\n",
       "      <th>Annual_%_Change_crude</th>\n",
       "      <th>Annual_%_Change_copper</th>\n",
       "      <th>Annual_%_Change_coffee</th>\n",
       "      <th>Unemployment_Rate_Increased</th>\n",
       "      <th>Unemployment_Rate_Percent_Change</th>\n",
       "      <th>Unemployment_Rate_Change_Indicator</th>\n",
       "    </tr>\n",
       "  </thead>\n",
       "  <tbody>\n",
       "    <tr>\n",
       "      <th>0</th>\n",
       "      <td>2024.0</td>\n",
       "      <td>9.05</td>\n",
       "      <td>5.55</td>\n",
       "      <td>9.89</td>\n",
       "      <td>-6.53</td>\n",
       "      <td>13.58</td>\n",
       "      <td>-0.51</td>\n",
       "      <td>6.85</td>\n",
       "      <td>3.800000</td>\n",
       "      <td>-0.092688</td>\n",
       "      <td>...</td>\n",
       "      <td>-0.223298</td>\n",
       "      <td>0.262182</td>\n",
       "      <td>-0.145917</td>\n",
       "      <td>-0.144743</td>\n",
       "      <td>0.056138</td>\n",
       "      <td>-0.134274</td>\n",
       "      <td>-0.345731</td>\n",
       "      <td>1</td>\n",
       "      <td>4.827586</td>\n",
       "      <td>0</td>\n",
       "    </tr>\n",
       "    <tr>\n",
       "      <th>1</th>\n",
       "      <td>2023.0</td>\n",
       "      <td>43.42</td>\n",
       "      <td>13.70</td>\n",
       "      <td>24.23</td>\n",
       "      <td>-30.62</td>\n",
       "      <td>-2.41</td>\n",
       "      <td>5.22</td>\n",
       "      <td>7.56</td>\n",
       "      <td>3.625000</td>\n",
       "      <td>-0.229543</td>\n",
       "      <td>...</td>\n",
       "      <td>-0.070694</td>\n",
       "      <td>-0.082794</td>\n",
       "      <td>-0.199847</td>\n",
       "      <td>0.188286</td>\n",
       "      <td>-0.582778</td>\n",
       "      <td>-0.166927</td>\n",
       "      <td>0.208869</td>\n",
       "      <td>0</td>\n",
       "      <td>-0.229358</td>\n",
       "      <td>0</td>\n",
       "    </tr>\n",
       "    <tr>\n",
       "      <th>2</th>\n",
       "      <td>2022.0</td>\n",
       "      <td>-33.10</td>\n",
       "      <td>-8.78</td>\n",
       "      <td>-19.44</td>\n",
       "      <td>14.37</td>\n",
       "      <td>-26.29</td>\n",
       "      <td>-10.52</td>\n",
       "      <td>13.91</td>\n",
       "      <td>3.633333</td>\n",
       "      <td>-0.124077</td>\n",
       "      <td>...</td>\n",
       "      <td>6.297961</td>\n",
       "      <td>3.488887</td>\n",
       "      <td>3.026747</td>\n",
       "      <td>-0.340666</td>\n",
       "      <td>-0.128344</td>\n",
       "      <td>-0.646130</td>\n",
       "      <td>-0.838549</td>\n",
       "      <td>0</td>\n",
       "      <td>-31.981279</td>\n",
       "      <td>1</td>\n",
       "    </tr>\n",
       "    <tr>\n",
       "      <th>3</th>\n",
       "      <td>2021.0</td>\n",
       "      <td>21.39</td>\n",
       "      <td>18.73</td>\n",
       "      <td>26.89</td>\n",
       "      <td>22.57</td>\n",
       "      <td>44.14</td>\n",
       "      <td>-1.23</td>\n",
       "      <td>11.49</td>\n",
       "      <td>5.341667</td>\n",
       "      <td>-0.569481</td>\n",
       "      <td>...</td>\n",
       "      <td>-0.370152</td>\n",
       "      <td>2.094849</td>\n",
       "      <td>3.026747</td>\n",
       "      <td>-0.471016</td>\n",
       "      <td>1.052936</td>\n",
       "      <td>0.566733</td>\n",
       "      <td>1.624098</td>\n",
       "      <td>0</td>\n",
       "      <td>-33.985582</td>\n",
       "      <td>1</td>\n",
       "    </tr>\n",
       "    <tr>\n",
       "      <th>4</th>\n",
       "      <td>2020.0</td>\n",
       "      <td>43.64</td>\n",
       "      <td>7.25</td>\n",
       "      <td>16.26</td>\n",
       "      <td>24.82</td>\n",
       "      <td>13.14</td>\n",
       "      <td>3.21</td>\n",
       "      <td>-5.00</td>\n",
       "      <td>8.091667</td>\n",
       "      <td>1.282133</td>\n",
       "      <td>...</td>\n",
       "      <td>-0.845809</td>\n",
       "      <td>-1.852644</td>\n",
       "      <td>-1.742681</td>\n",
       "      <td>0.639346</td>\n",
       "      <td>-0.807901</td>\n",
       "      <td>0.536434</td>\n",
       "      <td>-0.237071</td>\n",
       "      <td>1</td>\n",
       "      <td>120.181406</td>\n",
       "      <td>1</td>\n",
       "    </tr>\n",
       "  </tbody>\n",
       "</table>\n",
       "<p>5 rows × 21 columns</p>\n",
       "</div>"
      ],
      "text/plain": [
       "     Year  Annual_%_Change_nasdaq  Annual_%_Change_dowj  \\\n",
       "0  2024.0                    9.05                  5.55   \n",
       "1  2023.0                   43.42                 13.70   \n",
       "2  2022.0                  -33.10                 -8.78   \n",
       "3  2021.0                   21.39                 18.73   \n",
       "4  2020.0                   43.64                  7.25   \n",
       "\n",
       "   Annual_%_Change_sp500  Annual_%_Change_corn  Annual_%_Change_cotton  \\\n",
       "0                   9.89                 -6.53                   13.58   \n",
       "1                  24.23                -30.62                   -2.41   \n",
       "2                 -19.44                 14.37                  -26.29   \n",
       "3                  26.89                 22.57                   44.14   \n",
       "4                  16.26                 24.82                   13.14   \n",
       "\n",
       "   Annual_%_Change_pound  Annual_%_Change_yen  Annual_Unemployment_Rate  \\\n",
       "0                  -0.51                 6.85                  3.800000   \n",
       "1                   5.22                 7.56                  3.625000   \n",
       "2                 -10.52                13.91                  3.633333   \n",
       "3                  -1.23                11.49                  5.341667   \n",
       "4                   3.21                -5.00                  8.091667   \n",
       "\n",
       "   Annual_%_Change_silver  ...  Annual_%_Change_FFRate  \\\n",
       "0               -0.092688  ...               -0.223298   \n",
       "1               -0.229543  ...               -0.070694   \n",
       "2               -0.124077  ...                6.297961   \n",
       "3               -0.569481  ...               -0.370152   \n",
       "4                1.282133  ...               -0.845809   \n",
       "\n",
       "   Annual_%_Change_tenyrRate  Annual_%_Change_oneyrRate  Annual_%_Change_gold  \\\n",
       "0                   0.262182                  -0.145917             -0.144743   \n",
       "1                  -0.082794                  -0.199847              0.188286   \n",
       "2                   3.488887                   3.026747             -0.340666   \n",
       "3                   2.094849                   3.026747             -0.471016   \n",
       "4                  -1.852644                  -1.742681              0.639346   \n",
       "\n",
       "   Annual_%_Change_crude  Annual_%_Change_copper  Annual_%_Change_coffee  \\\n",
       "0               0.056138               -0.134274               -0.345731   \n",
       "1              -0.582778               -0.166927                0.208869   \n",
       "2              -0.128344               -0.646130               -0.838549   \n",
       "3               1.052936                0.566733                1.624098   \n",
       "4              -0.807901                0.536434               -0.237071   \n",
       "\n",
       "   Unemployment_Rate_Increased  Unemployment_Rate_Percent_Change  \\\n",
       "0                            1                          4.827586   \n",
       "1                            0                         -0.229358   \n",
       "2                            0                        -31.981279   \n",
       "3                            0                        -33.985582   \n",
       "4                            1                        120.181406   \n",
       "\n",
       "   Unemployment_Rate_Change_Indicator  \n",
       "0                                   0  \n",
       "1                                   0  \n",
       "2                                   1  \n",
       "3                                   1  \n",
       "4                                   1  \n",
       "\n",
       "[5 rows x 21 columns]"
      ]
     },
     "execution_count": 2,
     "metadata": {},
     "output_type": "execute_result"
    }
   ],
   "source": [
    "df.head()"
   ]
  },
  {
   "cell_type": "code",
   "execution_count": 3,
   "id": "f5ccd298-d1a2-4082-8b89-7b620a08522d",
   "metadata": {
    "tags": []
   },
   "outputs": [],
   "source": [
    "from sklearn.model_selection import TimeSeriesSplit\n",
    "\n",
    "# Assuming the DataFrame is already sorted by year\n",
    "# Extract the row for the holdout set (the most recent year, 2024)\n",
    "holdout = df[df['Year'] == 2024]\n",
    "holdout_features = holdout.drop(['Annual_Unemployment_Rate', 'Year', 'Unemployment_Rate_Increased', 'Unemployment_Rate_Percent_Change', 'Unemployment_Rate_Change_Indicator'], axis=1)\n",
    "\n",
    "\n",
    "# Remove the holdout set from the main DataFrame\n",
    "df_modeling = df[df['Year'] != 2024]\n",
    "\n",
    "# Define the features and target without the holdout year\n",
    "X = df_modeling.drop(['Annual_Unemployment_Rate', 'Year', 'Unemployment_Rate_Increased', 'Unemployment_Rate_Percent_Change', 'Unemployment_Rate_Change_Indicator'], axis=1) # should year be included?? Is it better to include as t starting with t = 0... t+1\n",
    "y = df_modeling['Annual_Unemployment_Rate']\n",
    "\n",
    "# Initialize TimeSeriesSplit with the desired number of splits\n",
    "# 40 training and 10 test observations, need to create 4 splits.\n",
    "tscv = TimeSeriesSplit(n_splits=4)"
   ]
  },
  {
   "cell_type": "markdown",
   "id": "6988d34f-e80a-4f71-899b-b9490f3e383e",
   "metadata": {},
   "source": [
    "# Regressions"
   ]
  },
  {
   "cell_type": "markdown",
   "id": "824b6ae1-c08c-4b58-b66b-4ad99d5351ef",
   "metadata": {},
   "source": [
    "### AdaBoostRegressor"
   ]
  },
  {
   "cell_type": "code",
   "execution_count": 4,
   "id": "f570c4a5-8bce-42e7-b732-855d4f18c69c",
   "metadata": {
    "tags": []
   },
   "outputs": [
    {
     "name": "stdout",
     "output_type": "stream",
     "text": [
      "Predictions for holdout year (2024): [5.6212963]\n"
     ]
    }
   ],
   "source": [
    "from sklearn.ensemble import AdaBoostRegressor\n",
    "from sklearn.model_selection import GridSearchCV\n",
    "\n",
    "\n",
    "param_grid = {\n",
    "    'n_estimators': [5, 10, 50, 100, 150, 200],\n",
    "    'learning_rate': [0.05, 0.01, 0.1, 0.5, 1.0]\n",
    "}\n",
    "\n",
    "# Initialize the AdaBoostRegressor\n",
    "reg_ada = AdaBoostRegressor(random_state=500)\n",
    "\n",
    "# Initialize GridSearchCV with TimeSeriesSplit as the cross-validation strategy\n",
    "grid_search = GridSearchCV(estimator=reg_ada, param_grid=param_grid, cv=tscv, scoring='r2')\n",
    "\n",
    "# Fit GridSearchCV to the data\n",
    "grid_search.fit(X, y)\n",
    "\n",
    "# Retrieve the best model\n",
    "best_ada = grid_search.best_estimator_\n",
    "\n",
    "# Now, let's say you have already separated your holdout set\n",
    "# Assuming 'holdout_features' contains the features of the holdout set for the year 2024 without target related features\n",
    "# holdout_features = holdout.drop(['Annual_Unemployment_Rate', 'Year'], axis=1)\n",
    "\n",
    "# Make predictions on the holdout set using the best model\n",
    "holdout_pred = best_ada.predict(holdout_features)\n",
    "print(\"Predictions for holdout year (2024):\", holdout_pred)"
   ]
  },
  {
   "cell_type": "markdown",
   "id": "3ed1d051-bc85-4a5d-a123-c1249d22be5d",
   "metadata": {},
   "source": [
    "### GradientBoostRegressor"
   ]
  },
  {
   "cell_type": "code",
   "execution_count": 6,
   "id": "82b72385-ff17-4ccf-850b-9f735a8bbe07",
   "metadata": {
    "tags": []
   },
   "outputs": [
    {
     "name": "stdout",
     "output_type": "stream",
     "text": [
      "Predictions for holdout year (2024): [5.76027412]\n"
     ]
    }
   ],
   "source": [
    "from sklearn.ensemble import GradientBoostingRegressor\n",
    "\n",
    "# Define GradientBoosting parameters to tune\n",
    "param_grid = {\n",
    "    'n_estimators': [100, 200, 300],\n",
    "    'learning_rate': [0.01, 0.1, 0.2],\n",
    "    'max_depth': [3, 4, 5],\n",
    "    'subsample': [0.8, 0.9, 1.0]  # Percentage of samples used for fitting the individual base learners\n",
    "}\n",
    "\n",
    "# Initialize the GradientBoostingRegressor\n",
    "reg_gb = GradientBoostingRegressor(random_state=500)\n",
    "\n",
    "# Initialize GridSearchCV\n",
    "grid_search_gb = GridSearchCV(estimator=reg_gb, param_grid=param_grid, cv=tscv, scoring='r2')\n",
    "\n",
    "# Fit GridSearchCV to the training data\n",
    "grid_search_gb.fit(X, y)\n",
    "\n",
    "# Retrieve the best model from GridSearchCV\n",
    "best_gb = grid_search_gb.best_estimator_\n",
    "\n",
    "# Now, let's say you have already separated your holdout set\n",
    "# Assuming 'holdout_features' contains the features of the holdout set for the year 2024 without target related features\n",
    "# holdout_features = holdout.drop(['Annual_Unemployment_Rate', 'Year'], axis=1)\n",
    "\n",
    "# Make predictions on the holdout set using the best model\n",
    "holdout_pred = best_gb.predict(holdout_features)\n",
    "print(\"Predictions for holdout year (2024):\", holdout_pred)"
   ]
  },
  {
   "cell_type": "markdown",
   "id": "21093cc1-5712-4ccb-80bf-ae2209320c9f",
   "metadata": {},
   "source": [
    "### XGBoostRegressor"
   ]
  },
  {
   "cell_type": "code",
   "execution_count": 7,
   "id": "e9e1ebdc-2def-496e-815b-18bcd0c20c2b",
   "metadata": {
    "tags": []
   },
   "outputs": [
    {
     "name": "stdout",
     "output_type": "stream",
     "text": [
      "Predictions for holdout year (2024): [5.5058093]\n"
     ]
    }
   ],
   "source": [
    "from xgboost import XGBRegressor\n",
    "\n",
    "# Define XGBRegressor parameters to tune\n",
    "param_grid = {\n",
    "    'n_estimators': [100, 200, 300],\n",
    "    'learning_rate': [0.01, 0.05, 0.1],\n",
    "    'max_depth': [3, 5, 7],\n",
    "    'subsample': [0.8, 0.9, 1.0],\n",
    "    'colsample_bytree': [0.7, 0.8, 0.9]  # Percentage of features used per tree\n",
    "}\n",
    "\n",
    "# Initialize the XGBRegressor\n",
    "reg_xgb = XGBRegressor(random_state=500)\n",
    "\n",
    "# Initialize GridSearchCV\n",
    "grid_search_xgb = GridSearchCV(estimator=reg_xgb, param_grid=param_grid, cv=tscv, scoring='r2')\n",
    "\n",
    "# Fit GridSearchCV to the training data\n",
    "grid_search_xgb.fit(X, y)\n",
    "\n",
    "# Retrieve the best model from GridSearchCV\n",
    "best_xgb = grid_search_xgb.best_estimator_\n",
    "\n",
    "# Now, let's say you have already separated your holdout set\n",
    "# Assuming 'holdout_features' contains the features of the holdout set for the year 2024 without target related features\n",
    "# holdout_features = holdout.drop(['Annual_Unemployment_Rate', 'Year'], axis=1)\n",
    "\n",
    "# Make predictions on the holdout set using the best model\n",
    "holdout_pred = best_xgb.predict(holdout_features)\n",
    "print(\"Predictions for holdout year (2024):\", holdout_pred)"
   ]
  },
  {
   "cell_type": "markdown",
   "id": "860caa2c-83e4-4943-999b-9425cb5d30d4",
   "metadata": {},
   "source": [
    "# Classification Models"
   ]
  },
  {
   "cell_type": "markdown",
   "id": "3f718b46-002d-4423-9994-216d94b8cbf2",
   "metadata": {},
   "source": [
    "## Target Variable: Binary Indicator variable for an increase\n",
    "- 1: the unemployment rate increased\n",
    "- 0: the unemployment rate stayed the same or decreased"
   ]
  },
  {
   "cell_type": "code",
   "execution_count": 8,
   "id": "8a330f18-8535-4c87-902e-85c959a6843a",
   "metadata": {
    "tags": []
   },
   "outputs": [],
   "source": [
    "# Define the features and target without the holdout year\n",
    "X = df_modeling.drop(['Annual_Unemployment_Rate', 'Year', 'Unemployment_Rate_Increased', 'Unemployment_Rate_Percent_Change', 'Unemployment_Rate_Change_Indicator'], axis=1) # should year be included?? Is it better to include as t starting with t = 0... t+1\n",
    "y = df_modeling['Unemployment_Rate_Increased']\n",
    "\n",
    "# Initialize TimeSeriesSplit with the desired number of splits\n",
    "# 40 training and 10 test observations, need to create 4 splits.\n",
    "tscv = TimeSeriesSplit(n_splits=4)"
   ]
  },
  {
   "cell_type": "markdown",
   "id": "11cca5f0-2351-4e7f-b572-2918955b7e7b",
   "metadata": {},
   "source": [
    "### AdaBoostClassifier"
   ]
  },
  {
   "cell_type": "code",
   "execution_count": 9,
   "id": "e92a9cfe-39c1-4022-b60b-c366ee76ae40",
   "metadata": {
    "tags": []
   },
   "outputs": [
    {
     "name": "stdout",
     "output_type": "stream",
     "text": [
      "Predictions for holdout year (2024): [0]\n"
     ]
    }
   ],
   "source": [
    "from sklearn.ensemble import AdaBoostClassifier\n",
    "\n",
    "# Define AdaBoost parameters to tune\n",
    "param_grid = {\n",
    "    'n_estimators': [50, 100, 150, 200],\n",
    "    'learning_rate': [0.01, 0.1, 0.5, 1.0]\n",
    "}\n",
    "\n",
    "# Initialize the AdaBoostClassifier\n",
    "clf_ada = AdaBoostClassifier(random_state=500)\n",
    "\n",
    "# Initialize GridSearchCV with 'accuracy' as the scoring metric\n",
    "grid_search_clf = GridSearchCV(estimator=clf_ada, param_grid=param_grid, cv=tscv, scoring='accuracy') # maybe try roc_auc or average_precision as scoring parameter\n",
    "\n",
    "# Fit GridSearchCV to the training data\n",
    "grid_search_clf.fit(X, y)\n",
    "\n",
    "# Retrieve the best model\n",
    "best_ada_clf = grid_search_clf.best_estimator_\n",
    "\n",
    "# Make predictions on the holdout set using the best model\n",
    "holdout_pred = best_ada_clf.predict(holdout_features)\n",
    "print(\"Predictions for holdout year (2024):\", holdout_pred)"
   ]
  },
  {
   "cell_type": "markdown",
   "id": "4be4567b-7caa-433c-9800-2474104a24a6",
   "metadata": {},
   "source": [
    "wrong"
   ]
  },
  {
   "cell_type": "markdown",
   "id": "074cdd8c-0824-4b0e-a537-dd2c7bf6d95f",
   "metadata": {},
   "source": [
    "### GradientBoostingClassifier"
   ]
  },
  {
   "cell_type": "code",
   "execution_count": 10,
   "id": "23bed323-44cc-4fed-9b75-6577d101e2cf",
   "metadata": {
    "tags": []
   },
   "outputs": [
    {
     "name": "stdout",
     "output_type": "stream",
     "text": [
      "Predictions for holdout year (2024): [0]\n"
     ]
    }
   ],
   "source": [
    "from sklearn.ensemble import GradientBoostingClassifier\n",
    "\n",
    "# Define GradientBoosting parameters to tune\n",
    "param_grid = {\n",
    "    'n_estimators': [100, 200, 300],\n",
    "    'learning_rate': [0.01, 0.1, 0.5, 1.0],\n",
    "    'max_depth': [3, 5, 7],\n",
    "    'subsample': [0.8, 0.9, 1.0]\n",
    "}\n",
    "\n",
    "# Initialize the GradientBoostingClassifier\n",
    "clf_gb = GradientBoostingClassifier(random_state=500)\n",
    "\n",
    "# Initialize GridSearchCV with 'accuracy' as the scoring metric\n",
    "grid_search_clf_gb = GridSearchCV(estimator=clf_gb, param_grid=param_grid, cv=tscv, scoring='accuracy') # maybe try roc_auc or average_precision as scoring parameter\n",
    "\n",
    "# Fit GridSearchCV to the training data\n",
    "grid_search_clf_gb.fit(X, y)\n",
    "\n",
    "# Retrieve the best model from GridSearchCV\n",
    "best_gb_clf = grid_search_clf_gb.best_estimator_\n",
    "\n",
    "# Make predictions on the holdout set using the best model\n",
    "holdout_pred = best_gb_clf.predict(holdout_features)\n",
    "print(\"Predictions for holdout year (2024):\", holdout_pred)"
   ]
  },
  {
   "cell_type": "markdown",
   "id": "054b063b-f9cb-4020-ac7a-4d20a3bfeb00",
   "metadata": {},
   "source": [
    "wrong"
   ]
  },
  {
   "cell_type": "markdown",
   "id": "b14e39cf-bfce-4c02-a080-e9fc2bec15e0",
   "metadata": {},
   "source": [
    "### XGBoostingClassifier"
   ]
  },
  {
   "cell_type": "code",
   "execution_count": 11,
   "id": "52468f87-2ada-4b81-a913-1f6e6f73f914",
   "metadata": {
    "tags": []
   },
   "outputs": [
    {
     "name": "stdout",
     "output_type": "stream",
     "text": [
      "Predictions for holdout year (2024): [0]\n"
     ]
    }
   ],
   "source": [
    "from xgboost import XGBClassifier\n",
    "\n",
    "# Define XGBClassifier parameters to tune\n",
    "param_grid = {\n",
    "     'n_estimators': [100, 200, 300],\n",
    "    'learning_rate': [0.01, 0.05, 0.1],\n",
    "    'max_depth': [3, 5, 7],\n",
    "    'subsample': [0.8, 0.9, 1.0],\n",
    "    'colsample_bytree': [0.7, 0.8, 0.9]\n",
    "}\n",
    "\n",
    "# Initialize the XGBClassifier\n",
    "clf_xgb = XGBClassifier(random_state=500, use_label_encoder=False, eval_metric='logloss')\n",
    "\n",
    "# Initialize GridSearchCV with 'accuracy' as the scoring metric\n",
    "grid_search_clf_xgb = GridSearchCV(estimator=clf_xgb, param_grid=param_grid, cv=tscv, scoring='accuracy') # maybe try roc_auc or average_precision as scoring parameter\n",
    "\n",
    "# Fit GridSearchCV to the training data\n",
    "grid_search_clf_xgb.fit(X, y)\n",
    "\n",
    "# Retrieve the best model from GridSearchCV\n",
    "best_xgb_clf = grid_search_clf_xgb.best_estimator_\n",
    "\n",
    "# Make predictions on the holdout set using the best model\n",
    "holdout_pred = best_xgb_clf.predict(holdout_features)\n",
    "print(\"Predictions for holdout year (2024):\", holdout_pred)"
   ]
  },
  {
   "cell_type": "markdown",
   "id": "41681857-abcc-461e-bbcb-834826404f77",
   "metadata": {},
   "source": [
    "wrong"
   ]
  },
  {
   "cell_type": "markdown",
   "id": "5b6d4e40-8992-4abb-9da6-4e99d77d0a80",
   "metadata": {},
   "source": [
    "## Target Variable: Binary Indicator variable for a 10% or greater change \n",
    "- 1: the unemployment rate changed by 10% or more from the previous year\n",
    "- 0: the unemployment rate did not change by 10% or more"
   ]
  },
  {
   "cell_type": "code",
   "execution_count": 12,
   "id": "5e4918d0-0790-4f2d-9bc0-fd6c7f05886b",
   "metadata": {
    "tags": []
   },
   "outputs": [],
   "source": [
    "# Define the features and target without the holdout year\n",
    "X = df_modeling.drop(['Annual_Unemployment_Rate', 'Year', 'Unemployment_Rate_Increased', 'Unemployment_Rate_Percent_Change', 'Unemployment_Rate_Change_Indicator'], axis=1) # should year be included?? Is it better to include as t starting with t = 0... t+1\n",
    "y = df_modeling['Unemployment_Rate_Change_Indicator']\n",
    "\n",
    "# Initialize TimeSeriesSplit with the desired number of splits\n",
    "# 40 training and 10 test observations, need to create 4 splits.\n",
    "tscv = TimeSeriesSplit(n_splits=4)"
   ]
  },
  {
   "cell_type": "markdown",
   "id": "915b8a4b-c219-4fae-9fa5-80d229212a70",
   "metadata": {},
   "source": [
    "### AdaBoostClassifier"
   ]
  },
  {
   "cell_type": "code",
   "execution_count": 13,
   "id": "e3684b9e-5752-4b9c-8c2f-10799c5e1e34",
   "metadata": {
    "tags": []
   },
   "outputs": [
    {
     "name": "stdout",
     "output_type": "stream",
     "text": [
      "Predictions for holdout year (2024): [0]\n"
     ]
    }
   ],
   "source": [
    "from sklearn.ensemble import AdaBoostClassifier\n",
    "\n",
    "# Define AdaBoost parameters to tune\n",
    "param_grid = {\n",
    "    'n_estimators': [50, 100, 150, 200],\n",
    "    'learning_rate': [0.01, 0.1, 0.5, 1.0]\n",
    "}\n",
    "\n",
    "# Initialize the AdaBoostClassifier\n",
    "clf_ada = AdaBoostClassifier(random_state=500)\n",
    "\n",
    "# Initialize GridSearchCV with 'accuracy' as the scoring metric\n",
    "grid_search_clf = GridSearchCV(estimator=clf_ada, param_grid=param_grid, cv=tscv, scoring='accuracy') # maybe try roc_auc or average_precision as scoring parameter\n",
    "\n",
    "# Fit GridSearchCV to the training data\n",
    "grid_search_clf.fit(X, y)\n",
    "\n",
    "# Retrieve the best model\n",
    "best_ada_clf = grid_search_clf.best_estimator_\n",
    "\n",
    "# Make predictions on the holdout set using the best model\n",
    "holdout_pred = best_ada_clf.predict(holdout_features)\n",
    "print(\"Predictions for holdout year (2024):\", holdout_pred)"
   ]
  },
  {
   "cell_type": "markdown",
   "id": "8df35743-ec3a-48c7-a580-ce9d7393ba78",
   "metadata": {},
   "source": [
    "correct"
   ]
  },
  {
   "cell_type": "markdown",
   "id": "5de87871-93ca-4561-b3c3-54cfdb352a1a",
   "metadata": {},
   "source": [
    "### GradientBoostingClassifier"
   ]
  },
  {
   "cell_type": "code",
   "execution_count": 14,
   "id": "6bd0fa5e-d848-4994-a72f-74baf35fecd6",
   "metadata": {
    "tags": []
   },
   "outputs": [
    {
     "name": "stdout",
     "output_type": "stream",
     "text": [
      "Predictions for holdout year (2024): [0]\n"
     ]
    }
   ],
   "source": [
    "from sklearn.ensemble import GradientBoostingClassifier\n",
    "\n",
    "# Define GradientBoosting parameters to tune\n",
    "param_grid = {\n",
    "    'n_estimators': [100, 200, 300],\n",
    "    'learning_rate': [0.01, 0.1, 0.5, 1.0],\n",
    "    'max_depth': [3, 5, 7],\n",
    "    'subsample': [0.8, 0.9, 1.0]\n",
    "}\n",
    "\n",
    "# Initialize the GradientBoostingClassifier\n",
    "clf_gb = GradientBoostingClassifier(random_state=500)\n",
    "\n",
    "# Initialize GridSearchCV with 'accuracy' as the scoring metric\n",
    "grid_search_clf_gb = GridSearchCV(estimator=clf_gb, param_grid=param_grid, cv=tscv, scoring='accuracy') # maybe try roc_auc or average_precision as scoring parameter\n",
    "\n",
    "# Fit GridSearchCV to the training data\n",
    "grid_search_clf_gb.fit(X, y)\n",
    "\n",
    "# Retrieve the best model from GridSearchCV\n",
    "best_gb_clf = grid_search_clf_gb.best_estimator_\n",
    "\n",
    "# Make predictions on the holdout set using the best model\n",
    "holdout_pred = best_gb_clf.predict(holdout_features)\n",
    "print(\"Predictions for holdout year (2024):\", holdout_pred)"
   ]
  },
  {
   "cell_type": "markdown",
   "id": "5f4bf0eb-98d4-4993-b7c8-15ade2a4699e",
   "metadata": {},
   "source": [
    "correct"
   ]
  },
  {
   "cell_type": "markdown",
   "id": "046c1760-596c-4c0c-9e8a-6c7029f84701",
   "metadata": {},
   "source": [
    "### XGBoostingClassifier"
   ]
  },
  {
   "cell_type": "code",
   "execution_count": 15,
   "id": "8b5194e4-9f53-4863-8d2f-56b675a2ff0d",
   "metadata": {
    "tags": []
   },
   "outputs": [
    {
     "name": "stdout",
     "output_type": "stream",
     "text": [
      "Predictions for holdout year (2024): [0]\n"
     ]
    }
   ],
   "source": [
    "from xgboost import XGBClassifier\n",
    "\n",
    "# Define XGBClassifier parameters to tune\n",
    "param_grid = {\n",
    "     'n_estimators': [100, 200, 300],\n",
    "    'learning_rate': [0.01, 0.05, 0.1],\n",
    "    'max_depth': [3, 5, 7],\n",
    "    'subsample': [0.8, 0.9, 1.0],\n",
    "    'colsample_bytree': [0.7, 0.8, 0.9]\n",
    "}\n",
    "\n",
    "# Initialize the XGBClassifier\n",
    "clf_xgb = XGBClassifier(random_state=500, use_label_encoder=False, eval_metric='logloss')\n",
    "\n",
    "# Initialize GridSearchCV with 'accuracy' as the scoring metric\n",
    "grid_search_clf_xgb = GridSearchCV(estimator=clf_xgb, param_grid=param_grid, cv=tscv, scoring='accuracy') # maybe try roc_auc or average_precision as scoring parameter\n",
    "\n",
    "# Fit GridSearchCV to the training data\n",
    "grid_search_clf_xgb.fit(X, y)\n",
    "\n",
    "# Retrieve the best model from GridSearchCV\n",
    "best_xgb_clf = grid_search_clf_xgb.best_estimator_\n",
    "\n",
    "# Make predictions on the holdout set using the best model\n",
    "holdout_pred = best_xgb_clf.predict(holdout_features)\n",
    "print(\"Predictions for holdout year (2024):\", holdout_pred)"
   ]
  },
  {
   "cell_type": "markdown",
   "id": "3f7f2ddc-c9ee-430f-a9d5-792deb0f65ae",
   "metadata": {},
   "source": [
    "correct"
   ]
  }
 ],
 "metadata": {
  "kernelspec": {
   "display_name": "Python 3 (ipykernel)",
   "language": "python",
   "name": "python3"
  },
  "language_info": {
   "codemirror_mode": {
    "name": "ipython",
    "version": 3
   },
   "file_extension": ".py",
   "mimetype": "text/x-python",
   "name": "python",
   "nbconvert_exporter": "python",
   "pygments_lexer": "ipython3",
   "version": "3.9.18"
  }
 },
 "nbformat": 4,
 "nbformat_minor": 5
}
