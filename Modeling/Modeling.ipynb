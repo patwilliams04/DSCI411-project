{
 "cells": [
  {
   "cell_type": "code",
   "execution_count": 1,
   "id": "15156441-f8f5-4ea1-b7be-da07e6f2d1b6",
   "metadata": {
    "tags": []
   },
   "outputs": [],
   "source": [
    "import pandas as pd\n",
    "\n",
    "df = pd.read_csv('/Users/patwilliams/DSCI441/DSCI411-project/Data_PreProcessing/final_economic_data.csv')"
   ]
  },
  {
   "cell_type": "code",
   "execution_count": 2,
   "id": "c3efe9e7-937b-42b0-8862-7c40f7705adb",
   "metadata": {
    "tags": []
   },
   "outputs": [
    {
     "data": {
      "text/html": [
       "<div>\n",
       "<style scoped>\n",
       "    .dataframe tbody tr th:only-of-type {\n",
       "        vertical-align: middle;\n",
       "    }\n",
       "\n",
       "    .dataframe tbody tr th {\n",
       "        vertical-align: top;\n",
       "    }\n",
       "\n",
       "    .dataframe thead th {\n",
       "        text-align: right;\n",
       "    }\n",
       "</style>\n",
       "<table border=\"1\" class=\"dataframe\">\n",
       "  <thead>\n",
       "    <tr style=\"text-align: right;\">\n",
       "      <th></th>\n",
       "      <th>Year</th>\n",
       "      <th>Annual_%_Change_nasdaq</th>\n",
       "      <th>Annual_%_Change_dowj</th>\n",
       "      <th>Annual_%_Change_sp500</th>\n",
       "      <th>Annual_%_Change_corn</th>\n",
       "      <th>Annual_%_Change_cotton</th>\n",
       "      <th>Annual_%_Change_pound</th>\n",
       "      <th>Annual_%_Change_yen</th>\n",
       "      <th>Annual_Unemployment_Rate</th>\n",
       "      <th>Annual_%_Change_silver</th>\n",
       "      <th>Annual_%_Change_sugar</th>\n",
       "      <th>Annual_%_Change_FFRate</th>\n",
       "      <th>Annual_%_Change_tenyrRate</th>\n",
       "      <th>Annual_%_Change_oneyrRate</th>\n",
       "      <th>Annual_%_Change_gold</th>\n",
       "      <th>Annual_%_Change_crude</th>\n",
       "      <th>Annual_%_Change_copper</th>\n",
       "      <th>Annual_%_Change_coffee</th>\n",
       "    </tr>\n",
       "  </thead>\n",
       "  <tbody>\n",
       "    <tr>\n",
       "      <th>0</th>\n",
       "      <td>2024.0</td>\n",
       "      <td>9.05</td>\n",
       "      <td>5.55</td>\n",
       "      <td>9.89</td>\n",
       "      <td>-6.53</td>\n",
       "      <td>13.58</td>\n",
       "      <td>-0.51</td>\n",
       "      <td>6.85</td>\n",
       "      <td>3.800000</td>\n",
       "      <td>-0.092688</td>\n",
       "      <td>-0.048746</td>\n",
       "      <td>-0.223298</td>\n",
       "      <td>0.262182</td>\n",
       "      <td>-0.145917</td>\n",
       "      <td>-0.144743</td>\n",
       "      <td>0.056138</td>\n",
       "      <td>-0.134274</td>\n",
       "      <td>-0.345731</td>\n",
       "    </tr>\n",
       "    <tr>\n",
       "      <th>1</th>\n",
       "      <td>2023.0</td>\n",
       "      <td>43.42</td>\n",
       "      <td>13.70</td>\n",
       "      <td>24.23</td>\n",
       "      <td>-30.62</td>\n",
       "      <td>-2.41</td>\n",
       "      <td>5.22</td>\n",
       "      <td>7.56</td>\n",
       "      <td>3.625000</td>\n",
       "      <td>-0.229543</td>\n",
       "      <td>-0.148293</td>\n",
       "      <td>-0.070694</td>\n",
       "      <td>-0.082794</td>\n",
       "      <td>-0.199847</td>\n",
       "      <td>0.188286</td>\n",
       "      <td>-0.582778</td>\n",
       "      <td>-0.166927</td>\n",
       "      <td>0.208869</td>\n",
       "    </tr>\n",
       "    <tr>\n",
       "      <th>2</th>\n",
       "      <td>2022.0</td>\n",
       "      <td>-33.10</td>\n",
       "      <td>-8.78</td>\n",
       "      <td>-19.44</td>\n",
       "      <td>14.37</td>\n",
       "      <td>-26.29</td>\n",
       "      <td>-10.52</td>\n",
       "      <td>13.91</td>\n",
       "      <td>3.633333</td>\n",
       "      <td>-0.124077</td>\n",
       "      <td>-0.059586</td>\n",
       "      <td>6.297961</td>\n",
       "      <td>3.488887</td>\n",
       "      <td>3.026747</td>\n",
       "      <td>-0.340666</td>\n",
       "      <td>-0.128344</td>\n",
       "      <td>-0.646130</td>\n",
       "      <td>-0.838549</td>\n",
       "    </tr>\n",
       "    <tr>\n",
       "      <th>3</th>\n",
       "      <td>2021.0</td>\n",
       "      <td>21.39</td>\n",
       "      <td>18.73</td>\n",
       "      <td>26.89</td>\n",
       "      <td>22.57</td>\n",
       "      <td>44.14</td>\n",
       "      <td>-1.23</td>\n",
       "      <td>11.49</td>\n",
       "      <td>5.341667</td>\n",
       "      <td>-0.569481</td>\n",
       "      <td>0.287502</td>\n",
       "      <td>-0.370152</td>\n",
       "      <td>2.094849</td>\n",
       "      <td>3.026747</td>\n",
       "      <td>-0.471016</td>\n",
       "      <td>1.052936</td>\n",
       "      <td>0.566733</td>\n",
       "      <td>1.624098</td>\n",
       "    </tr>\n",
       "    <tr>\n",
       "      <th>4</th>\n",
       "      <td>2020.0</td>\n",
       "      <td>43.64</td>\n",
       "      <td>7.25</td>\n",
       "      <td>16.26</td>\n",
       "      <td>24.82</td>\n",
       "      <td>13.14</td>\n",
       "      <td>3.21</td>\n",
       "      <td>-5.00</td>\n",
       "      <td>8.091667</td>\n",
       "      <td>1.282133</td>\n",
       "      <td>0.144376</td>\n",
       "      <td>-0.845809</td>\n",
       "      <td>-1.852644</td>\n",
       "      <td>-1.742681</td>\n",
       "      <td>0.639346</td>\n",
       "      <td>-0.807901</td>\n",
       "      <td>0.536434</td>\n",
       "      <td>-0.237071</td>\n",
       "    </tr>\n",
       "  </tbody>\n",
       "</table>\n",
       "</div>"
      ],
      "text/plain": [
       "     Year  Annual_%_Change_nasdaq  Annual_%_Change_dowj  \\\n",
       "0  2024.0                    9.05                  5.55   \n",
       "1  2023.0                   43.42                 13.70   \n",
       "2  2022.0                  -33.10                 -8.78   \n",
       "3  2021.0                   21.39                 18.73   \n",
       "4  2020.0                   43.64                  7.25   \n",
       "\n",
       "   Annual_%_Change_sp500  Annual_%_Change_corn  Annual_%_Change_cotton  \\\n",
       "0                   9.89                 -6.53                   13.58   \n",
       "1                  24.23                -30.62                   -2.41   \n",
       "2                 -19.44                 14.37                  -26.29   \n",
       "3                  26.89                 22.57                   44.14   \n",
       "4                  16.26                 24.82                   13.14   \n",
       "\n",
       "   Annual_%_Change_pound  Annual_%_Change_yen  Annual_Unemployment_Rate  \\\n",
       "0                  -0.51                 6.85                  3.800000   \n",
       "1                   5.22                 7.56                  3.625000   \n",
       "2                 -10.52                13.91                  3.633333   \n",
       "3                  -1.23                11.49                  5.341667   \n",
       "4                   3.21                -5.00                  8.091667   \n",
       "\n",
       "   Annual_%_Change_silver  Annual_%_Change_sugar  Annual_%_Change_FFRate  \\\n",
       "0               -0.092688              -0.048746               -0.223298   \n",
       "1               -0.229543              -0.148293               -0.070694   \n",
       "2               -0.124077              -0.059586                6.297961   \n",
       "3               -0.569481               0.287502               -0.370152   \n",
       "4                1.282133               0.144376               -0.845809   \n",
       "\n",
       "   Annual_%_Change_tenyrRate  Annual_%_Change_oneyrRate  Annual_%_Change_gold  \\\n",
       "0                   0.262182                  -0.145917             -0.144743   \n",
       "1                  -0.082794                  -0.199847              0.188286   \n",
       "2                   3.488887                   3.026747             -0.340666   \n",
       "3                   2.094849                   3.026747             -0.471016   \n",
       "4                  -1.852644                  -1.742681              0.639346   \n",
       "\n",
       "   Annual_%_Change_crude  Annual_%_Change_copper  Annual_%_Change_coffee  \n",
       "0               0.056138               -0.134274               -0.345731  \n",
       "1              -0.582778               -0.166927                0.208869  \n",
       "2              -0.128344               -0.646130               -0.838549  \n",
       "3               1.052936                0.566733                1.624098  \n",
       "4              -0.807901                0.536434               -0.237071  "
      ]
     },
     "execution_count": 2,
     "metadata": {},
     "output_type": "execute_result"
    }
   ],
   "source": [
    "df.head()"
   ]
  },
  {
   "cell_type": "code",
   "execution_count": 3,
   "id": "66e2aa1b-8092-48de-bee7-5a22a9624e8b",
   "metadata": {
    "tags": []
   },
   "outputs": [
    {
     "data": {
      "text/plain": [
       "((40, 16), (10, 16), (40,), (10,), (1, 18))"
      ]
     },
     "execution_count": 3,
     "metadata": {},
     "output_type": "execute_result"
    }
   ],
   "source": [
    "from sklearn.model_selection import train_test_split\n",
    "\n",
    "# Assuming the DataFrame is already sorted by year\n",
    "# Extract the row for the holdout set (the most recent year, 2024)\n",
    "holdout = df[df['Year'] == 2024]\n",
    "\n",
    "# Remove the holdout set from the main DataFrame\n",
    "df_modeling = df[df['Year'] != 2024]\n",
    "\n",
    "# IF YEAR SHOULD BE INCORPORATED\n",
    "\n",
    "# Calculate 'Years Since Epoch' where Epoch is set to 1974\n",
    "#df['Years_Since_Epoch'] = df['Year'] - 1974\n",
    "# Display the updated DataFrame to verify the transformation\n",
    "#df[['Year', 'Years_Since_Epoch']].head()\n",
    "\n",
    "\n",
    "# Define the features and target\n",
    "X = df_modeling.drop(['Annual_Unemployment_Rate', 'Year'], axis=1) # should year be included?? Is it better to include as t starting with t = 0... t+1\n",
    "y = df_modeling['Annual_Unemployment_Rate']\n",
    "\n",
    "# Split the data into training and testing sets\n",
    "# We want 40 observations in the training set, and 10 in the test set\n",
    "# The dataset is already sorted by year, so we can split accordingly\n",
    "X_train, X_test, y_train, y_test = train_test_split(X, y, test_size=10, shuffle=False)\n",
    "\n",
    "# Check the shapes to confirm the sizes\n",
    "(X_train.shape, X_test.shape, y_train.shape, y_test.shape, holdout.shape)"
   ]
  },
  {
   "cell_type": "code",
   "execution_count": 4,
   "id": "4440a598-d516-480e-91c0-c86c7eb3cb73",
   "metadata": {
    "tags": []
   },
   "outputs": [
    {
     "name": "stdout",
     "output_type": "stream",
     "text": [
      "RMSE: 2.923\n"
     ]
    }
   ],
   "source": [
    "import numpy as np\n",
    "from sklearn.metrics import mean_squared_error\n",
    "from sklearn.ensemble import AdaBoostRegressor\n",
    "\n",
    "reg_ada = AdaBoostRegressor(n_estimators=10, random_state=500)\n",
    "reg_ada.fit(X_train, y_train)\n",
    "\n",
    "# Calculate the predictions on the test set\n",
    "pred = reg_ada.predict(X_test)\n",
    "\n",
    "# Evaluate the performance using the RMSE\n",
    "rmse = np.sqrt(mean_squared_error(y_test, pred))\n",
    "print('RMSE: {:.3f}'.format(rmse))"
   ]
  },
  {
   "cell_type": "code",
   "execution_count": 5,
   "id": "9e7361c9-dc13-4e55-b8a1-d1941e93d6e6",
   "metadata": {
    "tags": []
   },
   "outputs": [
    {
     "name": "stdout",
     "output_type": "stream",
     "text": [
      "Best parameters: {'learning_rate': 0.01, 'n_estimators': 100}\n",
      "Best cross-validation RMSE: 1.8046500885653922\n"
     ]
    }
   ],
   "source": [
    "from sklearn.model_selection import GridSearchCV\n",
    "\n",
    "# Define the parameter grid\n",
    "param_grid = {\n",
    "    'n_estimators': [10, 50, 100, 150, 200],\n",
    "    'learning_rate': [0.01, 0.1, 0.5, 1.0]\n",
    "\n",
    "}\n",
    "\n",
    "# Initialize the AdaBoostRegressor\n",
    "reg_ada = AdaBoostRegressor(random_state=500)\n",
    "\n",
    "# Initialize GridSearchCV\n",
    "grid_search = GridSearchCV(estimator=reg_ada, param_grid=param_grid, cv=5, scoring='neg_mean_squared_error')\n",
    "\n",
    "# Fit GridSearchCV\n",
    "grid_search.fit(X_train, y_train)\n",
    "\n",
    "# Best parameter and score\n",
    "print(\"Best parameters:\", grid_search.best_params_)\n",
    "print(\"Best cross-validation RMSE:\", np.sqrt(-grid_search.best_score_))"
   ]
  },
  {
   "cell_type": "code",
   "execution_count": 7,
   "id": "a13da68a-2435-4f72-b307-9e35b2edad9f",
   "metadata": {
    "tags": []
   },
   "outputs": [
    {
     "name": "stdout",
     "output_type": "stream",
     "text": [
      "Best Model Performance Metrics:\n",
      "Mean Squared Error (MSE): 6.045\n",
      "Mean Absolute Error (MAE): 2.057\n",
      "Root Mean Squared Error (RMSE): 2.459\n",
      "R-squared (R2): -2.211\n"
     ]
    }
   ],
   "source": [
    "from sklearn.metrics import mean_squared_error, mean_absolute_error, r2_score\n",
    "best_ada = grid_search.best_estimator_\n",
    "\n",
    "# Make predictions using the best model on the test set\n",
    "pred = best_ada.predict(X_test)\n",
    "\n",
    "# Calculate various performance metrics\n",
    "mse = mean_squared_error(y_test, pred)\n",
    "mae = mean_absolute_error(y_test, pred)\n",
    "rmse = np.sqrt(mse)\n",
    "r2 = r2_score(y_test, pred)\n",
    "\n",
    "# Print the performance metrics\n",
    "print(\"Best Model Performance Metrics:\")\n",
    "print(\"Mean Squared Error (MSE): {:.3f}\".format(mse))\n",
    "print(\"Mean Absolute Error (MAE): {:.3f}\".format(mae))\n",
    "print(\"Root Mean Squared Error (RMSE): {:.3f}\".format(rmse))\n",
    "print(\"R-squared (R2): {:.3f}\".format(r2))"
   ]
  }
 ],
 "metadata": {
  "kernelspec": {
   "display_name": "Python 3 (ipykernel)",
   "language": "python",
   "name": "python3"
  },
  "language_info": {
   "codemirror_mode": {
    "name": "ipython",
    "version": 3
   },
   "file_extension": ".py",
   "mimetype": "text/x-python",
   "name": "python",
   "nbconvert_exporter": "python",
   "pygments_lexer": "ipython3",
   "version": "3.9.18"
  }
 },
 "nbformat": 4,
 "nbformat_minor": 5
}
